{
  "nbformat": 4,
  "nbformat_minor": 0,
  "metadata": {
    "colab": {
      "provenance": []
    },
    "kernelspec": {
      "name": "python3",
      "display_name": "Python 3"
    },
    "language_info": {
      "name": "python"
    }
  },
  "cells": [
    {
      "cell_type": "markdown",
      "source": [
        " 1. What are data structures, and why are they important ?\n",
        " Data structures are organized ways to store, manage, and retrieve data efficiently in a computer.\n",
        " >Importance of Data Structure :\n",
        " >>Efficient Data Management :Help organize large amounts of data so it's easy to access and\n",
        " modify.\n",
        "\n",
        " >>Faster Searching & Sorting: Certain data structures allow faster operations.\n",
        "\n",
        " >>Memory Optimization: Help reduce memory usage by using optimal storage formats.\n",
        "\n",
        " >>Foundation for Algorithms: Most algorithms rely on data structures to work correctly and\n",
        " efficiently.\n",
        "\n",
        " >>Real-world Problem Solving: Useful in tasks like file systems, databases, social networks, etc.\n",
        "\n",
        " >>Helps in Decision Making: Choosing the right data structure can improve performance drastically.\n",
        "\n",
        " Examples: List,tuple,sets"
      ],
      "metadata": {
        "id": "j989EthaU64l"
      }
    },
    {
      "cell_type": "markdown",
      "source": [
        " 2. Explain the difference between mutable and immutable data types with examples\n",
        " >Mutable:\n",
        " Objects that can be changed after they are created.\n",
        " No new memory location is created\n",
        " Example :list, dict, set"
      ],
      "metadata": {
        "id": "6MEm5jnvVm8G"
      }
    },
    {
      "cell_type": "code",
      "source": [
        " # Example of Mutable\n",
        " suppose_1 = [1, 2, 3]\n",
        " suppose_1[0] = 10\n",
        " print(suppose_1)"
      ],
      "metadata": {
        "colab": {
          "base_uri": "https://localhost:8080/"
        },
        "id": "7VJUirfFVt_x",
        "outputId": "6cb1a635-b3f7-4489-e8e6-e50714f35540"
      },
      "execution_count": 40,
      "outputs": [
        {
          "output_type": "stream",
          "name": "stdout",
          "text": [
            "[10, 2, 3]\n"
          ]
        }
      ]
    },
    {
      "cell_type": "markdown",
      "source": [
        " Immutable:\n",
        " Objects that cannot be changed after they are created.\n",
        " Creation of new memory location at any changes\n",
        " Examples: int, float, str, tuple"
      ],
      "metadata": {
        "id": "VrUXIT66Wmv-"
      }
    },
    {
      "cell_type": "code",
      "source": [
        " # Example of immutable\n",
        " t = (1, 2, 3)\n",
        " # t[0] = 10  #This will raise a TypeError"
      ],
      "metadata": {
        "id": "u1TCIiCkWwph"
      },
      "execution_count": 41,
      "outputs": []
    },
    {
      "cell_type": "markdown",
      "source": [
        " 3. What are the main differences between lists and tuples in Python ?\n",
        " Difference bwtween List and tuple\n",
        " >1. Mutability:Lists are mutable whereas tuples are immutable.\n",
        " This means you can change, add, or remove elements in a list, but you cannot modify a tuple after it's created.\n",
        " >2. Syntax: Lists use square brackets [ ], whereas tuples use parentheses ( ).\n",
        " This means you define a list like [1, 2, 3] and a tuple like (1, 2, 3).\n",
        " >3. Methods Available: Lists have many built-in methods, whereas *tuples *have very few.\n",
        " This means you can modify a list using methods like append(), pop(), or sort(), but tuples only support count()\n",
        " and index().\n",
        " >4. Performance: Tuples are faster in performance than** lists** This is because tuples are immutable and require less overhead, making them more efficient in fixed-size data\n",
        " operations.\n",
        " >5. Memory Usage: Tuples use less memory than lists.\n",
        " Since tuples are fixed in size, they consume less memory than dynamic lists.\n",
        " >6. Use Case: Lists are used when data can change, whereas tuples are used for fixed data.\n",
        " This means use lists for dynamic operations, and tuples when you want to protect data from modification"
      ],
      "metadata": {
        "id": "SBomPO8YcHap"
      }
    },
    {
      "cell_type": "markdown",
      "source": [
        " 4. Describe how dictionaries store data .\n",
        " A dictionary in Python is a collection of key-value pairs, where each key is unique and is used to access its corresponding\n",
        " value.\n",
        " Dictionaries store data:\n",
        " A dictionary stores data as key-value pairs.\n",
        " The key is used to identify the data.\n",
        " The value is the data associated with that key.\n",
        " It allows for quick access, update, and deletion of data using keys"
      ],
      "metadata": {
        "id": "YSR2uo-tdpxZ"
      }
    },
    {
      "cell_type": "markdown",
      "source": [
        " 5. Why might you use a set instead of a list in Python ?\n",
        " Reasons to use set instead of list :\n",
        " >1. No duplicate elements : A set automatically removes duplicates, while a list can store them.\n",
        " >2. Faster lookups : Checking if an element exists in a set (in operation) is generally O(1), compared to O(n) for a list.\n",
        " >3. Unordered collection : If you don’t care about the order of elements, sets are more efficient.\n",
        " >4. Mathematical operations : Sets support union, intersection, and difference operations directly.\n",
        " >5. Better for uniqueness checks : When you need only unique items, sets avoid manual duplicate removal."
      ],
      "metadata": {
        "id": "HN9RHUSEdsm8"
      }
    },
    {
      "cell_type": "markdown",
      "source": [
        " 6. What is a string in Python, and how is it different from a list ?\n",
        " >String: A string is a sequence of characters. Python treats anything inside quotes as a string. This includes letters, numbers,\n",
        " and symbols. Python has no character data type so single character is a string of length 1.\n",
        " String different from list:\n",
        " >>1. Data Type : A string stores only characters, while a list can store elements of any data type (numbers,\n",
        " strings, objects, etc.).\n",
        " >>2. Mutability : Strings are immutable, whereas lists are mutable .\n",
        " >>3. Element Type : Strings can contain only characters, but lists can have mixed data types.\n",
        " >>4. Modification : You cannot directly change a character in a string, but you can change, add, or remove\n",
        " elements in a list.\n",
        " >>5. Operations : Strings have text-specific methods (upper(), replace(), split()), while lists have collection\n",
        "specific methods (append(), remove(), sort()).\n",
        " >>6. Representation : Strings are written inside quotes (' ', \" \"), while lists are written inside square brackets [ ].\n",
        " >>7. Usage : Strings are used for text data, while lists are used for storing a sequence of items"
      ],
      "metadata": {
        "id": "aV2f5pSneBHU"
      }
    },
    {
      "cell_type": "markdown",
      "source": [
        "7. How do tuples ensure data integrity in Python ?\n",
        " >Tuples ensure data integrity in Python mainly because they are immutable.\n",
        " Other reasons tuples ensure data integrity:\n",
        " >>1. Prevents accidental changes : Since tuples can’t be modified, your data stays exactly as it was when created.\n",
        " 2. Reliable as constants : Tuples can store fixed data (like configuration values) that must remain the same throughout the\n",
        " program.\n",
        " 3. Safe for keys in dictionaries : Their immutability allows them to be used as dictionary keys or stored in sets without risk\n",
        " of being altered.\n",
        " 4. Predictable behavior : No unexpected changes in tuple data make debugging and tracking logic easier.\n",
        " 5. Thread-safety : In multi-threaded programs, immutable data structures like tuples reduce the chance of data corruption\n",
        " from concurrent modifications."
      ],
      "metadata": {
        "id": "CHUDz6C_eV3E"
      }
    },
    {
      "cell_type": "markdown",
      "source": [
        " 8. What is a hash table, and how does it relate to dictionaries in Python ?\n",
        " >A hash table is a data structure that stores key–value pairs and uses a hash function to map each key to a specific index\n",
        " (bucket) in memory.\n",
        " Relation of Hashtable to dictionaries :\n",
        " >>1. In Python, a dictionary (dict) is implemented using a hash table.\n",
        " >>2. Keys in a dictionary are hashed internally, and their hash values decide where the corresponding values are\n",
        " stored in memory.\n",
        " >>3. Only immutable and hashable objects can be used as dictionary keys.\n",
        " >>4. Hash tables let dictionaries perform very fast lookups, even with large amounts of data."
      ],
      "metadata": {
        "id": "CCc7Nw3mfhyV"
      }
    },
    {
      "cell_type": "code",
      "source": [
        " my_dict = {\"name\": \"Kingshuk\", \"age\": 25}\n",
        " # \"name\" is hashed internally → value 25 stored at a memory bucket\n",
        " print(my_dict[\"name\"])  # Output: Alice"
      ],
      "metadata": {
        "colab": {
          "base_uri": "https://localhost:8080/"
        },
        "id": "5DTLATmOgIi0",
        "outputId": "0f571e0b-4a90-4821-eeed-ece1abee6478"
      },
      "execution_count": 42,
      "outputs": [
        {
          "output_type": "stream",
          "name": "stdout",
          "text": [
            "Kingshuk\n"
          ]
        }
      ]
    },
    {
      "cell_type": "markdown",
      "source": [
        " 9. Can lists contain different data types in Python ?\n",
        " Yes, lists in Python can contain different data types in the same list.\n",
        " A list can hold integers, floats, strings, booleans, objects, even other lists — all mixed together.\n",
        " This is possible because Python lists are dynamic and store references to objects, not fixed-type elements."
      ],
      "metadata": {
        "id": "OwvKC1mqglsd"
      }
    },
    {
      "cell_type": "code",
      "source": [
        " my_list = [10, \"Hello\", 3.14, True, [1, 2, 3]]\n",
        " print(my_list)"
      ],
      "metadata": {
        "colab": {
          "base_uri": "https://localhost:8080/"
        },
        "id": "Yj_lRkQAgsH8",
        "outputId": "844287d5-b2e4-4abe-d013-d668b963012c"
      },
      "execution_count": 43,
      "outputs": [
        {
          "output_type": "stream",
          "name": "stdout",
          "text": [
            "[10, 'Hello', 3.14, True, [1, 2, 3]]\n"
          ]
        }
      ]
    },
    {
      "cell_type": "markdown",
      "source": [
        " 10. Explain why strings are immutable in Python .\n",
        " Reasons String are immutable:\n",
        " >1. Memory efficiency : Immutability allows Python to reuse identical string objects (string interning), saving memory.\n",
        " >2. Hash consistency : Strings must stay unchanged so their hash value remains constant when used as dictionary or set\n",
        " keys.\n",
        " >3. Thread-safety : Because strings can’t be modified, they can be shared between threads without risk of corruption.\n",
        " >4. Predictable behavior : Fixed, unchangeable strings prevent accidental changes, making code more reliable.\n",
        " >5. Performance optimization : Immutable strings can be stored and accessed in a way that speeds up certain operations."
      ],
      "metadata": {
        "id": "ojfchVMmgvhc"
      }
    },
    {
      "cell_type": "markdown",
      "source": [
        " 11. What advantages do dictionaries offer over lists for certain tasks ?\n",
        " >Advantages do dictionaries offer over lists for certain tasks are:\n",
        " >>1. Faster lookups : Dictionaries provide average O(1) time complexity for accessing values by key, while lists take O(n) for\n",
        " searches.\n",
        " >>2. Key-based access : You can access data using meaningful keys instead of relying on numeric indexes.\n",
        " >>3. No need for manual searching : Values are retrieved directly by key without iterating through the entire collection.\n",
        " >>4. Unordered but organized : Data is stored in a way that’s easy to manage when you care about associations rather than\n",
        " order.\n",
        "  >>5. Flexible keys and values : Keys can be any immutable type (string, number, tuple), and values can be any data type.\n",
        " >>6. Clear mapping of data : Perfect for storing real-world data with a clear “label\n",
        "→\n",
        " value” relationship."
      ],
      "metadata": {
        "id": "gLDPK510g--8"
      }
    },
    {
      "cell_type": "code",
      "source": [
        "# List of [name, phone] pairs\n",
        "contacts_list = [[\"Alice\", \"1234\"], [\"Bob\", \"5678\"], [\"Charlie\", \"9101\"]]\n",
        "# Find Bob's number\n",
        "for name, phone in contacts_list:\n",
        "    if name == \"Bob\":\n",
        "        print(phone)  # Output: 5678\n",
        "        break"
      ],
      "metadata": {
        "colab": {
          "base_uri": "https://localhost:8080/"
        },
        "id": "hGqYTorwhs-t",
        "outputId": "d312706d-3db7-4166-fdf7-366a1fadb058"
      },
      "execution_count": 44,
      "outputs": [
        {
          "output_type": "stream",
          "name": "stdout",
          "text": [
            "5678\n"
          ]
        }
      ]
    },
    {
      "cell_type": "code",
      "source": [
        " # Dictionary of name: phone pairs\n",
        " contacts_dict = {\"Alice\": \"1234\", \"Bob\": \"5678\", \"Charlie\": \"9101\"}\n",
        " # Find Bob's number\n",
        " print(contacts_dict[\"Bob\"])  # Output: 5678"
      ],
      "metadata": {
        "colab": {
          "base_uri": "https://localhost:8080/"
        },
        "id": "1VUW5qnLiDsL",
        "outputId": "43f93d0a-b532-4b33-9a8a-07d4bdb319c4"
      },
      "execution_count": 45,
      "outputs": [
        {
          "output_type": "stream",
          "name": "stdout",
          "text": [
            "5678\n"
          ]
        }
      ]
    },
    {
      "cell_type": "markdown",
      "source": [
        " Difference : Time Complexity of Dictionary is O(1) where as list is O(n)."
      ],
      "metadata": {
        "id": "LdplmMFriHCD"
      }
    },
    {
      "cell_type": "markdown",
      "source": [
        " 12. Describe a scenario where using a tuple would be preferable over a list.\n",
        " >Scenario:\n",
        " Storing fixed GPS coordinates of a city in a program.\n",
        " Example :"
      ],
      "metadata": {
        "id": "DPaMdapDiNyL"
      }
    },
    {
      "cell_type": "code",
      "source": [
        " # Latitude and Longitude of New York\n",
        " new_york_coordinates = (40.7128, -74.0060)"
      ],
      "metadata": {
        "id": "wC3AiNehiy7l"
      },
      "execution_count": 46,
      "outputs": []
    },
    {
      "cell_type": "markdown",
      "source": [
        " Why tuple is preferable:\n",
        " 1. The coordinates should never change during the program’s execution\n",
        "→\n",
        " tuples are immutable, ensuring data integrity.\n",
        " 2. Tuples can be used as dictionary keys if you need to store location-based data (lists cannot be keys).\n",
        " 3. Slightly faster than lists for access, making them efficient for fixed datasets."
      ],
      "metadata": {
        "id": "TOwEPXvNi41F"
      }
    },
    {
      "cell_type": "markdown",
      "source": [
        " 13. How do sets handle duplicate values in Python ?\n",
        " Sets automatically remove duplicate values because they only store unique elements.\n",
        " When you try to add a duplicate to a set, Python ignores it silently.\n",
        " This is possible because sets use a hash table internally, where each element’s hash value must be unique"
      ],
      "metadata": {
        "id": "eKvcFkD3i-ei"
      }
    },
    {
      "cell_type": "code",
      "source": [
        " my_set = {1, 2, 2, 3, 3, 3}\n",
        " print(my_set)"
      ],
      "metadata": {
        "colab": {
          "base_uri": "https://localhost:8080/"
        },
        "id": "vDVL-7QajMTL",
        "outputId": "eec76278-65c6-485c-eef6-db7f628bf6de"
      },
      "execution_count": 47,
      "outputs": [
        {
          "output_type": "stream",
          "name": "stdout",
          "text": [
            "{1, 2, 3}\n"
          ]
        }
      ]
    },
    {
      "cell_type": "markdown",
      "source": [
        "14. How does the “in” keyword work differently for lists and dictionaries ?\n",
        " The in keyword behaves differently for lists and dictionaries in Python:\n",
        " 1.For lists \"in\" checks if a value exists anywhere in the list"
      ],
      "metadata": {
        "id": "xXpJ08lcjPTV"
      }
    },
    {
      "cell_type": "code",
      "source": [
        " numbers = [1, 2, 3, 4]\n",
        " print(3 in numbers)   #(checks values)\n",
        " print(5 in numbers)"
      ],
      "metadata": {
        "colab": {
          "base_uri": "https://localhost:8080/"
        },
        "id": "USGafu4cjUz7",
        "outputId": "59482068-3a0e-4a6a-c872-3fbbcdbd9faf"
      },
      "execution_count": 48,
      "outputs": [
        {
          "output_type": "stream",
          "name": "stdout",
          "text": [
            "True\n",
            "False\n"
          ]
        }
      ]
    },
    {
      "cell_type": "markdown",
      "source": [
        "2.For dictionaries – in checks if a key exists in the dictionary (not the value)."
      ],
      "metadata": {
        "id": "9boSGD2djZGq"
      }
    },
    {
      "cell_type": "code",
      "source": [
        " person = {\"name\": \"Alice\", \"age\": 25}\n",
        " print(\"name\" in person)   #  checks keys\n",
        " print(\"Alice\" in person)  # does not check values"
      ],
      "metadata": {
        "colab": {
          "base_uri": "https://localhost:8080/"
        },
        "id": "-AhiMU3ujd9M",
        "outputId": "341bd238-4f58-411a-e616-648acd06a961"
      },
      "execution_count": 49,
      "outputs": [
        {
          "output_type": "stream",
          "name": "stdout",
          "text": [
            "True\n",
            "False\n"
          ]
        }
      ]
    },
    {
      "cell_type": "markdown",
      "source": [
        " 15. Can you modify the elements of a tuple? Explain why or why not .\n",
        " No we cannot modify the elements of a tuple in Python.\n",
        " Reason:\n",
        " >1. Tuples are immutable, meaning once they are created, their elements cannot be changed, added, or removed.\n",
        " >2. This immutability ensures data integrity, allows tuples to be used as dictionary keys or stored in sets, and makes them\n",
        " more memory-efficient and thread-safe"
      ],
      "metadata": {
        "id": "C6Z_iXNZjmas"
      }
    },
    {
      "cell_type": "code",
      "source": [
        " t = (1, 2, 3)\n",
        " t[0] = 10 # TypeError: 'tuple' object does not support item assignment"
      ],
      "metadata": {
        "colab": {
          "base_uri": "https://localhost:8080/",
          "height": 159
        },
        "id": "v6swvbt_jzdS",
        "outputId": "9caada2b-4141-4b8f-f023-25cc6818f82d"
      },
      "execution_count": 50,
      "outputs": [
        {
          "output_type": "error",
          "ename": "TypeError",
          "evalue": "'tuple' object does not support item assignment",
          "traceback": [
            "\u001b[0;31m---------------------------------------------------------------------------\u001b[0m",
            "\u001b[0;31mTypeError\u001b[0m                                 Traceback (most recent call last)",
            "\u001b[0;32m/tmp/ipython-input-117001329.py\u001b[0m in \u001b[0;36m<cell line: 0>\u001b[0;34m()\u001b[0m\n\u001b[1;32m      1\u001b[0m \u001b[0mt\u001b[0m \u001b[0;34m=\u001b[0m \u001b[0;34m(\u001b[0m\u001b[0;36m1\u001b[0m\u001b[0;34m,\u001b[0m \u001b[0;36m2\u001b[0m\u001b[0;34m,\u001b[0m \u001b[0;36m3\u001b[0m\u001b[0;34m)\u001b[0m\u001b[0;34m\u001b[0m\u001b[0;34m\u001b[0m\u001b[0m\n\u001b[0;32m----> 2\u001b[0;31m \u001b[0mt\u001b[0m\u001b[0;34m[\u001b[0m\u001b[0;36m0\u001b[0m\u001b[0;34m]\u001b[0m \u001b[0;34m=\u001b[0m \u001b[0;36m10\u001b[0m \u001b[0;31m# TypeError: 'tuple' object does not support item assignment\u001b[0m\u001b[0;34m\u001b[0m\u001b[0;34m\u001b[0m\u001b[0m\n\u001b[0m",
            "\u001b[0;31mTypeError\u001b[0m: 'tuple' object does not support item assignment"
          ]
        }
      ]
    },
    {
      "cell_type": "markdown",
      "source": [
        "16. What is a nested dictionary, and give an example of its use case ?\n",
        " Nested Dictionary:\n",
        " 1. A nested dictionary is a dictionary that contains another dictionary as one or more of its values.\n",
        " 2. It’s used to store hierarchical or structured data in a compact, organized way."
      ],
      "metadata": {
        "id": "rbF2CRN4j1Sr"
      }
    },
    {
      "cell_type": "code",
      "source": [
        " # Example of usecase\n",
        "students = {\n",
        " \"Alice\": {\"age\": 20, \"marks\": {\"Math\": 90, \"Science\": 85}},\n",
        " \"Bob\": {\"age\": 22, \"marks\": {\"Math\": 78, \"Science\": 88}}\n",
        " }\n",
        " # Access Bob's Science marks\n",
        " print(students[\"Bob\"][\"marks\"][\"Science\"])"
      ],
      "metadata": {
        "id": "WsE9sqnlj8TK"
      },
      "execution_count": null,
      "outputs": []
    },
    {
      "cell_type": "markdown",
      "source": [
        "17. Describe the time complexity of accessing elements in a dictionary.\n",
        " Accessing elements in a dictionary in Python has:\n",
        " 1. Average case: O(1) : Constant time, because dictionaries use a hash table for key lookups.\n",
        " 2. Worst case: O(n) : Happens rarely, only when many keys have the same hash value (hash collision) and Python has to\n",
        " search through them linearly."
      ],
      "metadata": {
        "id": "utpaYOETkBd1"
      }
    },
    {
      "cell_type": "code",
      "source": [
        " person = {\"name\": \"Alice\", \"age\": 25}\n",
        " print(person[\"age\"])  # O(1) average time"
      ],
      "metadata": {
        "id": "57EzG8WOkF1r"
      },
      "execution_count": null,
      "outputs": []
    },
    {
      "cell_type": "markdown",
      "source": [
        " 18. In what situations are lists preferred over dictionaries ?\n",
        " >Situations where lists are preferred over dictionaries:\n",
        " >>1. Order matters : When you need to preserve and work with the sequence of elements.\n",
        " >>2. No key-value mapping needed : When you only care about storing values, not associating them with unique keys.\n",
        " >>3. Allow duplicates : When you need to store the same value multiple times.\n",
        " >>4. Index-based access : When elements are best accessed by their position (index) rather than by a key.\n",
        " >>5. Small datasets : For small collections where the speed benefit of a dictionary is negligible.\n",
        " >>6. Iteration over values : When you want to loop through elements directly without worrying about keys."
      ],
      "metadata": {
        "id": "pgSptJeEkJyD"
      }
    },
    {
      "cell_type": "code",
      "source": [
        " fruits = [\"apple\", \"banana\", \"orange\", \"banana\"]\n",
        "print(fruits[1])"
      ],
      "metadata": {
        "id": "AMmmhLNlkbq6"
      },
      "execution_count": null,
      "outputs": []
    },
    {
      "cell_type": "markdown",
      "source": [
        "19. Why are dictionaries considered unordered, and how does that affect data retrieval ?\n",
        " Dictionaries are considered unordered:\n",
        " 1. Before Python 3.7, dictionaries did not guarantee that elements would be stored or iterated in the order they were\n",
        " inserted.\n",
        "  2. This is because dictionaries are implemented using a hash table, where the storage location of each key-value pair\n",
        " depends on the key’s hash value, not its position.\n",
        " Effect on data retrieval\n",
        " 1. Key-based retrieval is unaffected we can always access a value directly using its key in O(1) time, regardless of order.\n",
        " 2. However, iteration order was unpredictable in older versions of Python, meaning looping over a dictionary could produce\n",
        " elements in any sequence.\n",
        " 3. From Python 3.7+, insertion order is preserved as an implementation detail but retrieval by key is still independent of\n",
        " order."
      ],
      "metadata": {
        "id": "qYFpK1X5keUC"
      }
    },
    {
      "cell_type": "markdown",
      "source": [
        " 20. Explain the difference between a list and a dictionary in terms of data retrieval.\n",
        " Difference between a list and a dictionary in terms of data retrieval:\n",
        " >1. List : Retrieval is index-based\n",
        " We access elements using their position (0, 1, 2, …).\n",
        " Time complexity: O(1) for direct index access, but O(n) if you search for a value."
      ],
      "metadata": {
        "id": "6Ehms2pWkrJb"
      }
    },
    {
      "cell_type": "code",
      "source": [
        " fruits = [\"apple\", \"banana\", \"cherry\"]\n",
        " print(fruits[1])"
      ],
      "metadata": {
        "colab": {
          "base_uri": "https://localhost:8080/"
        },
        "id": "cf9-E4TPkyU7",
        "outputId": "0649cdf2-43d4-4643-95cf-abf58aee5459"
      },
      "execution_count": 51,
      "outputs": [
        {
          "output_type": "stream",
          "name": "stdout",
          "text": [
            "banana\n"
          ]
        }
      ]
    },
    {
      "cell_type": "markdown",
      "source": [
        " 2. Dictionary : Retrieval is key-based\n",
        " We access values using unique keys, not positions.\n",
        " Time complexity: O(1) on average because of hashing."
      ],
      "metadata": {
        "id": "7iU1Y2Q6k6HL"
      }
    },
    {
      "cell_type": "code",
      "source": [
        " person = {\"name\": \"Alice\", \"age\": 25}\n",
        " print(person[\"age\"])"
      ],
      "metadata": {
        "colab": {
          "base_uri": "https://localhost:8080/"
        },
        "id": "QMjNqG9Hk8V6",
        "outputId": "21bf5782-b01a-4af4-d2ae-a2ffc6edc4d5"
      },
      "execution_count": 52,
      "outputs": [
        {
          "output_type": "stream",
          "name": "stdout",
          "text": [
            "25\n"
          ]
        }
      ]
    },
    {
      "cell_type": "markdown",
      "source": [
        "Practical Questions"
      ],
      "metadata": {
        "id": "DiKow7nmlBKS"
      }
    },
    {
      "cell_type": "code",
      "source": [
        " #1 Write a code to create a string with your name and print it\n",
        " name=input(\"Enter your name\")\n",
        " print(f\"My name is {name}\")"
      ],
      "metadata": {
        "id": "pHVZ2qi9lKmM"
      },
      "execution_count": null,
      "outputs": []
    },
    {
      "cell_type": "code",
      "source": [
        "#2 Write a code to find the length of the string \"Hello World\"\n",
        "my_string=\"Hello World\"\n",
        "length=len(my_string)\n",
        "print(\"Length of my_string is :\",length)"
      ],
      "metadata": {
        "id": "rG4xubrslUOj"
      },
      "execution_count": null,
      "outputs": []
    },
    {
      "cell_type": "code",
      "source": [
        " #3 Write a code to slice the first 3 characters from the string \"Python Programming\"\n",
        " string=\"Python Programming\"\n",
        " print(\"String after slicing first 3 character :\",string[3:])"
      ],
      "metadata": {
        "id": "1-bMCgbzl1bS"
      },
      "execution_count": null,
      "outputs": []
    },
    {
      "cell_type": "code",
      "source": [
        " #4 Write a code to convert the string \"hello\" to uppercase\n",
        " string=\"hello\"\n",
        " print(\"String in uppercase\",string.upper())"
      ],
      "metadata": {
        "id": "ZsohuExUl5wS"
      },
      "execution_count": null,
      "outputs": []
    },
    {
      "cell_type": "code",
      "source": [
        " #5 Write a code to replace the word \"apple\" with \"orange\" in the string \"I like apple\"\n",
        " string=\"I like apple \"\n",
        " new_string=string.replace(\"apple\",\"orange\") #replacing the word apple --->orange\n",
        "print(\"String before replacement :\",string)\n",
        "print(\"String after replacemnt: \",new_string)"
      ],
      "metadata": {
        "id": "dMoCcNeVl-La"
      },
      "execution_count": null,
      "outputs": []
    },
    {
      "cell_type": "code",
      "source": [
        "#6 Write a code to create a list with numbers 1 to 5 and print it\n",
        "list=[] #empty list\n",
        "for i in range(1,6):\n",
        "    list.append(i) #appending elements\n",
        "print(\"List with number 1 to 5\",list)"
      ],
      "metadata": {
        "id": "V5ZoJ7p2mNWD"
      },
      "execution_count": null,
      "outputs": []
    },
    {
      "cell_type": "code",
      "source": [
        " #7 Write a code to append the number 10 to the list [1, 2, 3, 4]\n",
        " list=[1,2,3,4]\n",
        " print(\"List before appending 10 : \",list)\n",
        " list.append(10) #adding 10 to list\n",
        " print(\"List after appending 10 : \" ,list)"
      ],
      "metadata": {
        "id": "w2RQXVG5mhgy"
      },
      "execution_count": null,
      "outputs": []
    },
    {
      "cell_type": "code",
      "source": [
        " #8 Write a code to remove the number 3 from the list [1, 2, 3, 4, 5]\n",
        " list=[1,2,3,4,5]\n",
        " print(\"List before removing 3 : \",list)\n",
        " list.remove(3) #remove 3 from list\n",
        " print(\"List after removing 3 : \" ,list)"
      ],
      "metadata": {
        "id": "-sw4jwWgmlv5"
      },
      "execution_count": null,
      "outputs": []
    },
    {
      "cell_type": "code",
      "source": [
        " #9 Write a code to access the second element in the list ['a', 'b', 'c', 'd']\n",
        " list=['a', 'b', 'c', 'd']\n",
        " '''acessing second element of list the indexing of list starts with 0 . Therefore element at index 1 is second elemnt of list '''\n",
        " second_element=list[1]\n",
        " print(\"The second element in the list :\",second_element)"
      ],
      "metadata": {
        "id": "8LnmLIO2mqiL"
      },
      "execution_count": null,
      "outputs": []
    },
    {
      "cell_type": "code",
      "source": [
        " #10  Write a code to reverse the list [10, 20, 30, 40, 50]\n",
        " list=[10, 20, 30, 40, 50]\n",
        " print(\"Orginal List\",list)\n",
        " print()\n",
        " #revrse inbuiltfunction\n",
        " list.reverse()\n",
        " print(\"Reversed list by reverse function \",list)\n",
        " print()\n",
        " orginal_list=[10, 20, 30, 40, 50]\n",
        " print(\"Reversed list by slicing\",orginal_list[::-1])"
      ],
      "metadata": {
        "id": "jM5IFIK-muhz"
      },
      "execution_count": null,
      "outputs": []
    },
    {
      "cell_type": "code",
      "source": [
        " #11 Write a code to create a tuple with the elements 100, 200, 300 and print it\n",
        " tuple=(100, 200, 300 )\n",
        " print(\"Tuple :\",tuple)"
      ],
      "metadata": {
        "id": "AfJ7CDLim19y"
      },
      "execution_count": null,
      "outputs": []
    },
    {
      "cell_type": "code",
      "source": [
        " #12 Write a code to access the second-to-last element of the tuple ('red', 'green', 'blue', 'yellow')\n",
        " tuple=('red', 'green', 'blue', 'yellow')"
      ],
      "metadata": {
        "id": "fzosF1ANm7JK"
      },
      "execution_count": null,
      "outputs": []
    },
    {
      "cell_type": "code",
      "source": [
        " #13 Write a code to find the minimum number in the tuple (10, 20, 5, 15)\n",
        " tuple=(10, 20, 5, 15)\n",
        " print(\"Minimum value in the tuple :\",min(tuple)) # min inbuilt function"
      ],
      "metadata": {
        "id": "NU46zjswnKoS"
      },
      "execution_count": null,
      "outputs": []
    },
    {
      "cell_type": "code",
      "source": [
        " #14 Write a code to find the index of the element \"cat\" in the tuple ('dog', 'cat', 'rabbit')\n",
        " tuple=('dog', 'cat', 'rabbit')\n",
        " print(\"index of the cat :\",tuple.index(\"cat\")) #index fetch the index of elements"
      ],
      "metadata": {
        "id": "TQnOR0sxnOTr"
      },
      "execution_count": null,
      "outputs": []
    },
    {
      "cell_type": "code",
      "source": [
        " #15 Write a code to create a tuple containing three different fruits and check if \"kiwi\" is in it\n",
        " tuple1 = (\"banana\" , \"peaches\", \"apple\")\n",
        " tuple2= (\"buleberry\" , \"kiwi\", \"grapes\" )\n",
        " result1= \"kiwi\" in tuple1\n",
        " result2= \"kiwi\" in tuple2\n",
        " print(\"Tuple1 contain kiwi :\",result1)\n",
        " print(\"Tuple2 contain kiwi :\",result2)"
      ],
      "metadata": {
        "id": "LZyOnDQpnSny"
      },
      "execution_count": null,
      "outputs": []
    },
    {
      "cell_type": "code",
      "source": [
        " #16  Write a code to create a set with the elements 'a', 'b', 'c' and print it\n",
        " set={\"a\",\"b\",\"c\"}\n",
        " print(\"Set\",set)"
      ],
      "metadata": {
        "id": "Ns07CRd9nXyK"
      },
      "execution_count": null,
      "outputs": []
    },
    {
      "cell_type": "code",
      "source": [
        " #17 Write a code to clear all elements from the set {1, 2, 3, 4, 5}.\n",
        " set={1, 2, 3, 4, 5}\n",
        " print(\"Before clearing the set: \" ,set)\n",
        " #clear it empty the set\n",
        " set=set.clear()\n",
        " print(\"After clearing the set: \",set)"
      ],
      "metadata": {
        "id": "uyMVSsianbSC"
      },
      "execution_count": null,
      "outputs": []
    },
    {
      "cell_type": "code",
      "source": [
        " #18  Write a code to remove the element 4 from the set {1, 2, 3, 4}.\n",
        " my_set = {1, 2, 3, 4}\n",
        " print(\"Before removing 4 from the set:\", my_set)\n",
        " # remove the element\n",
        " my_set.remove(4)\n",
        " print(\"After removing 4 from the set:\", my_set)"
      ],
      "metadata": {
        "id": "tNT4bKBYngQC"
      },
      "execution_count": null,
      "outputs": []
    },
    {
      "cell_type": "code",
      "source": [
        " #19 Write a code to find the union of two sets {1, 2, 3} and {3, 4, 5}\n",
        " set1={1, 2, 3}\n",
        " set2={3, 4, 5}\n",
        " #using union function  returns unquie element of set\n",
        "  print(\"Union of set with union fuction :\",set1.union(set2))\n",
        " # union with \"| \"\n",
        " print(\"Union of set with '|':\",set1|set2)"
      ],
      "metadata": {
        "id": "d6p1P5SHnkPM"
      },
      "execution_count": null,
      "outputs": []
    },
    {
      "cell_type": "code",
      "source": [
        " #20  Write a code to find the intersection of two sets {1, 2, 3} and {2, 3, 4}\n",
        " set1={1, 2, 3}\n",
        " set2={2, 3, 4}\n",
        " #using intersection function  returns common element of set\n",
        " print(\"Intersection of set with intersection function :\",set1.intersection(set2))\n",
        " # Intersection with \"& \"\n",
        " print(\"Intersection of set with '&' :\",set1&set2)"
      ],
      "metadata": {
        "id": "Dc23IFjSnuox"
      },
      "execution_count": null,
      "outputs": []
    },
    {
      "cell_type": "code",
      "source": [
        " #21  Write a code to create a dictionary with the keys \"name\", \"age\", and \"city\", and print it\n",
        " my_dictionary={\"name\":\"Sakshi\",\"age\":\"21\",\"city\":\"nagpur\"}"
      ],
      "metadata": {
        "id": "nTUIGUgXn7Gq"
      },
      "execution_count": null,
      "outputs": []
    },
    {
      "cell_type": "code",
      "source": [
        " #22 Write a code to add a new key-value pair \"country\": \"USA\" to the dictionary {'name': 'John', 'age': 25}\n",
        " my_dictionary={'name': 'John', 'age': 25}\n",
        " print(\"Dictionary before adding new key-value pair :\",my_dictionary)\n",
        " my_dictionary[\"country\"] = \"USA\" #adding element\n",
        " print(\"Dictionary after adding new key-value pair :\",my_dictionary)"
      ],
      "metadata": {
        "id": "Z10A1uuUn-ns"
      },
      "execution_count": null,
      "outputs": []
    },
    {
      "cell_type": "code",
      "source": [
        " #23 Write a code to access the value associated with the key \"name\" in the dictionary {'name': 'Alice', 'age': 30}\n",
        " my_dictionary={'name': 'Alice', 'age': 30}\n",
        " print(\"The value associated with keyword name :\",my_dictionary.get(\"name\")) #accessing the value associated with the key \"name\"\n",
        "\n",
        "  # Write a code to remove the key \"age\" from the dictionary {'name': 'Bob', 'age': 22, 'city': 'New York'}\n",
        " my_dict={'name': 'Bob', 'age': 22, 'city': 'New York'}\n",
        " print(\"Before removing age :\",my_dict)\n",
        " # removing age\n",
        " my_dict.pop(\"age\")\n",
        " print(\"After removing age :\",my_dict)"
      ],
      "metadata": {
        "id": "wBfBNoRvoC-5"
      },
      "execution_count": null,
      "outputs": []
    },
    {
      "cell_type": "code",
      "source": [
        "#25 Write a code to check if the key \"city\" exists in the dictionary {'name': 'Alice', 'city': 'Paris'}.\n",
        "my_dict={'name': 'Alice', 'city': 'Paris'}\n",
        "if \"city\" in my_dict.keys():\n",
        "    print(\"Dictionary contain city\")\n",
        "else:\n",
        "    print(\"False\")"
      ],
      "metadata": {
        "id": "qL_Zeu4moTSJ"
      },
      "execution_count": null,
      "outputs": []
    },
    {
      "cell_type": "code",
      "source": [
        "#26 Write a code to create a list, a tuple, and a dictionary, and print them all\n",
        "my_list=[1,2,4,\"hello\",False,True]\n",
        "my_tuple=(5,3,6)\n",
        "my_dictionary={'name': 'Alice', 'city': 'Paris'}\n",
        "print(f\"my_list :{my_list} and type is {type(my_list)}\")\n",
        "print()\n",
        "print(f\"my_tuple :{my_tuple} and type is {type(my_tuple)}\")\n",
        "print()\n",
        "print(f\"my dict :{my_dictionary} and type is {type(my_dictionary)}\")"
      ],
      "metadata": {
        "id": "mWwnjLlZoZwE"
      },
      "execution_count": null,
      "outputs": []
    },
    {
      "cell_type": "code",
      "source": [
        " #27 Write a code to create a list of 5 random numbers between 1 and 100, sort it in ascending order, and print the result .(replaced)\n",
        " import random\n",
        " # List with random 5 numbers\n",
        " random_numbers = random.sample(range(1, 101), 5)\n",
        " print(\"list before sorting :\",random_numbers)\n",
        " # sort function sort the list in ascending order\n",
        " random_numbers.sort()\n",
        " print(\"Sorted random numbers:\", random_numbers)"
      ],
      "metadata": {
        "id": "Pk8ZpRmno-1S"
      },
      "execution_count": null,
      "outputs": []
    },
    {
      "cell_type": "code",
      "source": [
        " #28 Write a code to create a list with strings and print the element at the third index\n",
        " my_list = [\"apple\", \"banana\", \"cherry\", \"date\", \"blueberry\"]\n",
        " print(\"Element at index 3:\", my_list[3])"
      ],
      "metadata": {
        "id": "ZMttl3JApC0J"
      },
      "execution_count": null,
      "outputs": []
    },
    {
      "cell_type": "code",
      "source": [
        " #29  Write a code to combine two dictionaries into one and print the result.\n",
        " dict1={'name': 'Alice', 'city': 'Paris'}\n",
        " dict2 ={'age':24,'gender':'Male'}\n",
        " print(\"Dict 1 : \",dict1)\n",
        " print(\"Dict 2 : \",dict2)\n",
        " print()\n",
        " # update function extend or combine the list\n",
        " dict1.update(dict2)\n",
        " print(\"Dictionary 1 after combing both dictionary :\" , dict1)"
      ],
      "metadata": {
        "id": "4z1E0_pKpKwc"
      },
      "execution_count": null,
      "outputs": []
    },
    {
      "cell_type": "code",
      "source": [
        " #30 Write a code to convert a list of strings into a set.\n",
        " my_list=[\"Ajay\",\"Samiksha\",\"David\",\"name\" ,\"name\",\"Samiksha\"]\n",
        " s=set(my_list)\n",
        " print(\"List :\",my_list)\n",
        " print()\n",
        " print(\"List after converted into set\",s)"
      ],
      "metadata": {
        "id": "5kHnz9DupQGb"
      },
      "execution_count": null,
      "outputs": []
    }
  ]
}